{
  "nbformat": 4,
  "nbformat_minor": 0,
  "metadata": {
    "colab": {
      "name": "softmax.ipynb",
      "version": "0.3.2",
      "provenance": [],
      "include_colab_link": true
    },
    "language_info": {
      "codemirror_mode": {
        "name": "ipython",
        "version": 3
      },
      "file_extension": ".py",
      "mimetype": "text/x-python",
      "name": "python",
      "nbconvert_exporter": "python",
      "pygments_lexer": "ipython3",
      "version": "3.5.3"
    },
    "kernelspec": {
      "display_name": "mlkernel",
      "language": "python",
      "name": "mlkernel"
    }
  },
  "cells": [
    {
      "cell_type": "markdown",
      "metadata": {
        "id": "view-in-github",
        "colab_type": "text"
      },
      "source": [
        "<a href=\"https://colab.research.google.com/github/prakritibanik/machinelearning/blob/master/softmax.ipynb\" target=\"_parent\"><img src=\"https://colab.research.google.com/assets/colab-badge.svg\" alt=\"Open In Colab\"/></a>"
      ]
    },
    {
      "cell_type": "markdown",
      "metadata": {
        "id": "S041cP-GKQco",
        "colab_type": "text"
      },
      "source": [
        "## Lesson 1: Machine learning to deep learning \n",
        "\n",
        "Codes from lesson 1 of Udacity Deep Learning course"
      ]
    },
    {
      "cell_type": "markdown",
      "metadata": {
        "id": "YxEBeplRKQcq",
        "colab_type": "text"
      },
      "source": [
        "## Import Packages"
      ]
    },
    {
      "cell_type": "code",
      "metadata": {
        "id": "y0PRnJNaKQcr",
        "colab_type": "code",
        "colab": {}
      },
      "source": [
        "#importing some useful packages\n",
        "import matplotlib.pyplot as plt\n",
        "import matplotlib.image as mpimg\n",
        "import numpy as np\n",
        "import math\n",
        "import cv2\n",
        "%matplotlib inline"
      ],
      "execution_count": 0,
      "outputs": []
    },
    {
      "cell_type": "code",
      "metadata": {
        "id": "HWzo5FYmKQcu",
        "colab_type": "code",
        "colab": {
          "base_uri": "https://localhost:8080/",
          "height": 286
        },
        "outputId": "76cd663b-1421-4065-82b3-6e27db61df95"
      },
      "source": [
        "\"\"\"Softmax.\"\"\"\n",
        "\n",
        "scores = [3.0, 1.0, 0.2]\n",
        "\n",
        "import numpy as np\n",
        "\n",
        "def softmax(x):\n",
        "    \"\"\"Compute softmax values for each sets of scores in x.\"\"\"\n",
        "    return np.exp(x)/ np.sum(np.exp(x), axis=0)\n",
        "\n",
        "print(softmax(scores))\n",
        "\n",
        "# Plot softmax curves\n",
        "import matplotlib.pyplot as plt\n",
        "x = np.arange(-2.0, 6.0, 0.1)\n",
        "scores = np.vstack([x, np.ones_like(x), 0.2 * np.ones_like(x)])\n",
        "\n",
        "plt.plot(x, softmax(scores).T, linewidth=2)\n",
        "plt.show()"
      ],
      "execution_count": 5,
      "outputs": [
        {
          "output_type": "stream",
          "text": [
            "[0.8360188  0.11314284 0.05083836]\n"
          ],
          "name": "stdout"
        },
        {
          "output_type": "display_data",
          "data": {
            "image/png": "[encoded data removed]",
            "text/plain": [
              "<Figure size 432x288 with 1 Axes>"
            ]
          },
          "metadata": {
            "tags": []
          }
        }
      ]
    },
    {
      "cell_type": "markdown",
      "metadata": {
        "id": "3QOqj_kyMItb",
        "colab_type": "text"
      },
      "source": [
        "###HW1. Find eigenvalue and eigen vector from a Matix using numpy. "
      ]
    },
    {
      "cell_type": "code",
      "metadata": {
        "id": "mlM0PS-sLFvV",
        "colab_type": "code",
        "colab": {
          "base_uri": "https://localhost:8080/",
          "height": 85
        },
        "outputId": "2bc69c52-16a6-4c35-9697-fe46deecdd3e"
      },
      "source": [
        "A = np.array([[-2, 1, 0],[1, -2, 1], [0, 1, -2]])\n",
        "print(A)\n",
        "print(A.shape)"
      ],
      "execution_count": 6,
      "outputs": [
        {
          "output_type": "stream",
          "text": [
            "[[-2  1  0]\n",
            " [ 1 -2  1]\n",
            " [ 0  1 -2]]\n",
            "(3, 3)\n"
          ],
          "name": "stdout"
        }
      ]
    },
    {
      "cell_type": "markdown",
      "metadata": {
        "id": "ecFNkg7lNgZJ",
        "colab_type": "text"
      },
      "source": [
        "Get eigenvectors and eigenvalues using np.linalg"
      ]
    },
    {
      "cell_type": "code",
      "metadata": {
        "id": "UOcg71lANMDJ",
        "colab_type": "code",
        "colab": {
          "base_uri": "https://localhost:8080/",
          "height": 102
        },
        "outputId": "42cd37ae-3bd8-429c-be3d-37d648c9ea2d"
      },
      "source": [
        "w, v = np.linalg.eig(A) #w is eigenvalue, v is eigenvectors\n",
        "print(w)\n",
        "print(v)\n",
        "print(v.shape[0])"
      ],
      "execution_count": 7,
      "outputs": [
        {
          "output_type": "stream",
          "text": [
            "[-3.41421356 -2.         -0.58578644]\n",
            "[[ 5.00000000e-01  7.07106781e-01  5.00000000e-01]\n",
            " [-7.07106781e-01 -4.05925293e-16  7.07106781e-01]\n",
            " [ 5.00000000e-01 -7.07106781e-01  5.00000000e-01]]\n",
            "3\n"
          ],
          "name": "stdout"
        }
      ]
    },
    {
      "cell_type": "markdown",
      "metadata": {
        "id": "Llu_hyIqS8GJ",
        "colab_type": "text"
      },
      "source": [
        "Check if $Av = \\lambda v$ for all eigenvalues and eigenvectors"
      ]
    },
    {
      "cell_type": "code",
      "metadata": {
        "id": "UMoV_5JkOWp8",
        "colab_type": "code",
        "colab": {
          "base_uri": "https://localhost:8080/",
          "height": 119
        },
        "outputId": "c14cbc99-2a97-4a88-ccfd-5af6e5a5fb6a"
      },
      "source": [
        "for i in range(v.shape[0]) :\n",
        "  print(np.dot(A,v[:,i]))\n",
        "  print(np.dot(w[i],v[:,i]))"
      ],
      "execution_count": 8,
      "outputs": [
        {
          "output_type": "stream",
          "text": [
            "[-1.70710678  2.41421356 -1.70710678]\n",
            "[-1.70710678  2.41421356 -1.70710678]\n",
            "[-1.41421356e+00  1.22124533e-15  1.41421356e+00]\n",
            "[-1.41421356e+00  8.11850587e-16  1.41421356e+00]\n",
            "[-0.29289322 -0.41421356 -0.29289322]\n",
            "[-0.29289322 -0.41421356 -0.29289322]\n"
          ],
          "name": "stdout"
        }
      ]
    },
    {
      "cell_type": "markdown",
      "metadata": {
        "id": "m4Whvc7IVglP",
        "colab_type": "text"
      },
      "source": [
        "###HW1. Problem 3  Construct a simple neural netwrok which will implement the following truth table.\n",
        "\n",
        "|  $x1$  |  $x2$  |  $x3$  |  $y$   |\n",
        "|------------|-------------|-------------|------------|\n",
        "\n"
      ]
    },
    {
      "cell_type": "code",
      "metadata": {
        "id": "n64MsSfCUYuA",
        "colab_type": "code",
        "colab": {
          "base_uri": "https://localhost:8080/",
          "height": 221
        },
        "outputId": "3897f7f1-e001-448c-a5e7-e4629229fc96"
      },
      "source": [
        "x=np.array([[0,0,0],[1,0,0],[0,1,0],[1,1,0],[0,0,1],[1,0,1],[0,1,1],[1,1,1]])\n",
        "y=np.array([0,0,1,1,0,0,0,1])\n",
        "print(x)\n",
        "print(y)\n",
        "print(x.T)"
      ],
      "execution_count": 24,
      "outputs": [
        {
          "output_type": "stream",
          "text": [
            "[[0 0 0]\n",
            " [1 0 0]\n",
            " [0 1 0]\n",
            " [1 1 0]\n",
            " [0 0 1]\n",
            " [1 0 1]\n",
            " [0 1 1]\n",
            " [1 1 1]]\n",
            "[0 0 1 1 0 0 0 1]\n",
            "[[0 1 0 1 0 1 0 1]\n",
            " [0 0 1 1 0 0 1 1]\n",
            " [0 0 0 0 1 1 1 1]]\n"
          ],
          "name": "stdout"
        }
      ]
    },
    {
      "cell_type": "markdown",
      "metadata": {
        "id": "JAp6EEAtdEev",
        "colab_type": "text"
      },
      "source": [
        "To build a simple neural network we need to decide layers, bias and activation function. Lets assume we have a a 2 layers neural network"
      ]
    },
    {
      "cell_type": "code",
      "metadata": {
        "id": "1n5LssJucHc6",
        "colab_type": "code",
        "colab": {
          "base_uri": "https://localhost:8080/",
          "height": 187
        },
        "outputId": "365da96b-2e2f-47fc-aa2d-bb7050e31654"
      },
      "source": [
        "#define first layer weights\n",
        "w1 = np.array([[-10,40,-35],[10,40,40],[-15,-15,20]])\n",
        "# define bias\n",
        "b1 = np.array([-10, -20,5]).reshape(1,3)\n",
        "\n",
        "#define second layer weights\n",
        "w2 = np.array([-10,40,-35])\n",
        "# define bias\n",
        "b2 = -10\n",
        "\n",
        "print('w1:\\n', w1)\n",
        "print('b1;\\n', b1)\n",
        "print('w2:\\n', w2)\n",
        "print('b2:\\n', b2)"
      ],
      "execution_count": 25,
      "outputs": [
        {
          "output_type": "stream",
          "text": [
            "w1:\n",
            " [[-10  40 -35]\n",
            " [ 10  40  40]\n",
            " [-15 -15  20]]\n",
            "b1;\n",
            " [[-10 -20   5]]\n",
            "w2:\n",
            " [-10  40 -35]\n",
            "b2:\n",
            " -10\n"
          ],
          "name": "stdout"
        }
      ]
    },
    {
      "cell_type": "code",
      "metadata": {
        "id": "X30d6_z0epK1",
        "colab_type": "code",
        "colab": {}
      },
      "source": [
        "#define the sigmoid function\n",
        "sigma = lambda z : 1 if z>=0 else (0 if z<0 else 0.5)\n",
        "\n",
        "def sigmoid(x):\n",
        "  if x>=0:\n",
        "    return 1\n",
        "  else:\n",
        "    return 0"
      ],
      "execution_count": 0,
      "outputs": []
    },
    {
      "cell_type": "code",
      "metadata": {
        "id": "BNeTmHlhdd56",
        "colab_type": "code",
        "colab": {
          "base_uri": "https://localhost:8080/",
          "height": 204
        },
        "outputId": "6b353795-924a-4f9e-9c53-4d3054fdaf53"
      },
      "source": [
        "layer1 = np.dot(w1, x.T)+b1.T\n",
        "print(layer1)\n",
        "\n",
        "output1 = np.array([[sigmoid(z) for z in i] for i in layer1]).T\n",
        "print(output1)"
      ],
      "execution_count": 19,
      "outputs": [
        {
          "output_type": "stream",
          "text": [
            "[[-10 -20  30  20 -45 -55  -5 -15]\n",
            " [-20 -10  20  30  20  30  60  70]\n",
            " [  5 -10 -10 -25  25  10  10  -5]]\n",
            "[[0 0 1]\n",
            " [0 0 0]\n",
            " [1 1 0]\n",
            " [1 1 0]\n",
            " [0 1 1]\n",
            " [0 1 1]\n",
            " [0 1 1]\n",
            " [0 1 0]]\n"
          ],
          "name": "stdout"
        }
      ]
    },
    {
      "cell_type": "code",
      "metadata": {
        "id": "ySGHCsoLdy2C",
        "colab_type": "code",
        "colab": {
          "base_uri": "https://localhost:8080/",
          "height": 34
        },
        "outputId": "0530a87a-f44f-453e-e2d5-e9e990ffd9fa"
      },
      "source": [
        "layer2 = np.dot(w2,output1.T)+b2\n",
        "final_output = np.array([sigmoid(z) for z in layer2]).T\n",
        "print(final_output)"
      ],
      "execution_count": 26,
      "outputs": [
        {
          "output_type": "stream",
          "text": [
            "[0 0 1 1 0 0 0 1]\n"
          ],
          "name": "stdout"
        }
      ]
    }
  ]
}